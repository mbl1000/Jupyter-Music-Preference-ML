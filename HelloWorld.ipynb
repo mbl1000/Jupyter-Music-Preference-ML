{
 "cells": [
  {
   "cell_type": "code",
   "execution_count": 1,
   "id": "297ccfd2",
   "metadata": {
    "scrolled": true
   },
   "outputs": [
    {
     "name": "stderr",
     "output_type": "stream",
     "text": [
      "C:\\Users\\Admin\\anaconda3\\lib\\site-packages\\sklearn\\base.py:420: UserWarning: X does not have valid feature names, but DecisionTreeClassifier was fitted with feature names\n",
      "  warnings.warn(\n"
     ]
    },
    {
     "data": {
      "text/plain": [
       "array(['HipHop', 'Dance'], dtype=object)"
      ]
     },
     "execution_count": 1,
     "metadata": {},
     "output_type": "execute_result"
    }
   ],
   "source": [
    "import pandas as pd\n",
    "from sklearn.tree import DecisionTreeClassifier \n",
    "\n",
    "\n",
    "\n",
    "# sklearn is the top python machine learning package, tree is the module, and DecisionTreeClassifier is the class\n",
    "music_data = pd.read_csv(\"music.csv\")\n",
    "X = music_data.drop(columns=['genre']) \n",
    "# input is always capital X and output is lowercase y\n",
    "y = music_data['genre']\n",
    "\n",
    "model=DecisionTreeClassifier()\n",
    "model.fit(X,y)\n",
    "predictions = model.predict([[21,1],[22,0]])\n",
    "predictions\n"
   ]
  },
  {
   "cell_type": "code",
   "execution_count": null,
   "id": "a9fc847b",
   "metadata": {},
   "outputs": [],
   "source": [
    "import pandas as pd\n",
    "from sklearn.tree import DecisionTreeClassifier \n",
    "from sklearn.model_selection import train_test_split\n",
    "\n",
    "\n",
    "# sklearn is the top python machine learning package, tree is the module, and DecisionTreeClassifier is the class\n",
    "# train_test_split is a function designed to test. \n",
    "music_data = pd.read_csv(\"music.csv\")\n",
    "X = music_data.drop(columns=['genre']) \n",
    "# input is always capital X and output is lowercase y\n",
    "y = music_data['genre']\n",
    "X_train, X_test, y_train, y_test = train_test_split(X,y, test_size=0.2)\n",
    "# These are the output sets for training and testing.  Original function takes three parameters, input, output, and test_size\n",
    "\n",
    "\n",
    "model=DecisionTreeClassifier()\n",
    "model.fit(X_train,y_train)\n",
    "predictions = model.predict(X_test)\n",
    "predictions\n"
   ]
  },
  {
   "cell_type": "code",
   "execution_count": null,
   "id": "12b1d766",
   "metadata": {},
   "outputs": [],
   "source": [
    "import pandas as pd\n",
    "from sklearn.tree import DecisionTreeClassifier \n",
    "from sklearn.model_selection import train_test_split\n",
    "from sklearn.metrics import accuracy_score\n",
    "\n",
    "\n",
    "# sklearn is the top python machine learning package, tree is the module, and DecisionTreeClassifier is the class\n",
    "# train_test_split is a function designed to test. \n",
    "music_data = pd.read_csv(\"music.csv\")\n",
    "X = music_data.drop(columns=['genre']) \n",
    "# input is always capital X and output is lowercase y\n",
    "y = music_data['genre']\n",
    "X_train, X_test, y_train, y_test = train_test_split(X,y, test_size=0.2)\n",
    "# These are the output sets for training and testing.  Original function takes three parameters, input, output, and test_size\n",
    "\n",
    "\n",
    "model=DecisionTreeClassifier()\n",
    "model.fit(X_train,y_train)\n",
    "predictions = model.predict(X_test)\n",
    "\n",
    "score = accuracy_score(y_test, predictions)\n",
    "# y_test is the expected values, the second input \"predictions\" is the ACTUAL values.  \"What do we want to see, what did we see\"\n",
    "score\n"
   ]
  },
  {
   "cell_type": "code",
   "execution_count": null,
   "id": "b7f1ff16",
   "metadata": {},
   "outputs": [],
   "source": [
    "import pandas as pd\n",
    "from sklearn.tree import DecisionTreeClassifier \n",
    "from sklearn.externals import joblib\n",
    "\n",
    "\n",
    "\n",
    "# The joblib object has methods for loading and saving models. \n",
    "\n",
    "# sklearn is the top python machine learning package, tree is the module, and DecisionTreeClassifier is the class\n",
    "# train_test_split is a function designed to test. \n",
    "music_data = pd.read_csv(\"music.csv\")\n",
    "X = music_data.drop(columns=['genre']) \n",
    "# input is always capital X and output is lowercase y\n",
    "y = music_data['genre']\n",
    "\n",
    "\n",
    "\n",
    "model=DecisionTreeClassifier()\n",
    "model.fit(X,y)\n",
    "\n",
    "joblib.dump(model,'music-recommender.joblib')\n",
    "# After we train our model we dump the model and create a name for the trained model in a file. \n",
    "# Here we are loading the model as the first value, and the second is the name of the file in which we want to store the model\n",
    "\n",
    "# predictions = model.predict([[21,1]])\n"
   ]
  },
  {
   "cell_type": "code",
   "execution_count": null,
   "id": "dd4939a3",
   "metadata": {},
   "outputs": [],
   "source": [
    "import pandas as pd\n",
    "from sklearn.tree import DecisionTreeClassifier \n",
    "from sklearn.externals import joblib\n",
    "\n",
    "\n",
    "\n",
    "# The joblib object has methods for loading and saving models. \n",
    "\n",
    "# # sklearn is the top python machine learning package, tree is the module, and DecisionTreeClassifier is the class\n",
    "# # train_test_split is a function designed to test. \n",
    "# music_data = pd.read_csv(\"music.csv\")\n",
    "# X = music_data.drop(columns=['genre']) \n",
    "# # input is always capital X and output is lowercase y\n",
    "# y = music_data['genre']\n",
    "\n",
    "# model=DecisionTreeClassifier()\n",
    "# model.fit(X,y)\n",
    "\n",
    "model = joblib.load('music-recommender.joblib')\n",
    "# joblib.load returns our trained model. \n",
    "# After we train our model we dump the model and create a name for the trained model in a file. \n",
    "# Here we are loading the model as the first value, and the second is the name of the file in which we want to store the model\n"
   ]
  },
  {
   "cell_type": "code",
   "execution_count": null,
   "id": "97ef600c",
   "metadata": {},
   "outputs": [],
   "source": [
    "import pandas as pd\n",
    "from sklearn.tree import DecisionTreeClassifier \n",
    "from sklearn import tree\n",
    "\n",
    "music_data = pd.read_csv(\"music.csv\")\n",
    "X = music_data.drop(columns=['genre']) \n",
    "y = music_data['genre']\n",
    "\n",
    "model=DecisionTreeClassifier()\n",
    "model.fit(X,y)\n",
    "\n",
    "tree.export_graphviz(model,out_file='music-recommender.dot',\n",
    "                     feature_names=['age','gender'],\n",
    "                                    class_names=sorted(y.unique()),\n",
    "                                    label='all',\n",
    "                                    rounded = True,\n",
    "                                    filled = True)\n",
    "## copy and paste the file located with the model into VS code.  Then download graphviz extension to see. \n",
    "\n"
   ]
  }
 ],
 "metadata": {
  "kernelspec": {
   "display_name": "Python 3 (ipykernel)",
   "language": "python",
   "name": "python3"
  },
  "language_info": {
   "codemirror_mode": {
    "name": "ipython",
    "version": 3
   },
   "file_extension": ".py",
   "mimetype": "text/x-python",
   "name": "python",
   "nbconvert_exporter": "python",
   "pygments_lexer": "ipython3",
   "version": "3.10.9"
  }
 },
 "nbformat": 4,
 "nbformat_minor": 5
}
